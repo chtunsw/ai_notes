{
 "cells": [
  {
   "cell_type": "markdown",
   "metadata": {},
   "source": [
    "# Convolutional Neural Networks: Application\n",
    "\n",
    "Welcome to Course 4's second assignment! In this notebook, you will:\n",
    "\n",
    "- Create a mood classifer using the TF Keras Sequential API\n",
    "- Build a ConvNet to identify sign language digits using the TF Keras Functional API\n",
    "\n",
    "**After this assignment you will be able to:**\n",
    "\n",
    "- Build and train a ConvNet in TensorFlow for a __binary__ classification problem\n",
    "- Build and train a ConvNet in TensorFlow for a __multiclass__ classification problem\n",
    "- Explain different use cases for the Sequential and Functional APIs\n",
    "\n",
    "To complete this assignment, you should already be familiar with TensorFlow. If you are not, please refer back to the **TensorFlow Tutorial** of the third week of Course 2 (\"**Improving deep neural networks**\")."
   ]
  },
  {
   "cell_type": "markdown",
   "metadata": {},
   "source": [
    "## Table of Contents\n",
    "\n",
    "- [1 - Packages](#1)\n",
    "    - [1.1 - Load the Data and Split the Data into Train/Test Sets](#1-1)\n",
    "- [2 - Layers in TF Keras](#2)\n",
    "- [3 - The Sequential API](#3)\n",
    "    - [3.1 - Create the Sequential Model](#3-1)\n",
    "        - [Exercise 1 - happyModel](#ex-1)\n",
    "    - [3.2 - Train and Evaluate the Model](#3-2)\n",
    "- [4 - The Functional API](#4)\n",
    "    - [4.1 - Load the SIGNS Dataset](#4-1)\n",
    "    - [4.2 - Split the Data into Train/Test Sets](#4-2)\n",
    "    - [4.3 - Forward Propagation](#4-3)\n",
    "        - [Exercise 2 - convolutional_model](#ex-2)\n",
    "    - [4.4 - Train the Model](#4-4)\n",
    "- [5 - History Object](#5)\n",
    "- [6 - Bibliography](#6)"
   ]
  },
  {
   "cell_type": "markdown",
   "metadata": {},
   "source": [
    "<a name='1'></a>\n",
    "## 1 - Packages\n",
    "\n",
    "As usual, begin by loading in the packages."
   ]
  },
  {
   "cell_type": "code",
   "execution_count": 1,
   "metadata": {},
   "outputs": [],
   "source": [
    "import math\n",
    "import numpy as np\n",
    "import h5py\n",
    "import matplotlib.pyplot as plt\n",
    "from matplotlib.pyplot import imread\n",
    "import scipy\n",
    "from PIL import Image\n",
    "import pandas as pd\n",
    "import tensorflow as tf\n",
    "import tensorflow.keras.layers as tfl\n",
    "from tensorflow.python.framework import ops\n",
    "from cnn_utils import *\n",
    "from test_utils import summary, comparator\n",
    "\n",
    "%matplotlib inline\n",
    "np.random.seed(1)"
   ]
  },
  {
   "cell_type": "markdown",
   "metadata": {},
   "source": [
    "<a name='1-1'></a>\n",
    "### 1.1 - Load the Data and Split the Data into Train/Test Sets\n",
    "\n",
    "You'll be using the Happy House dataset for this part of the assignment, which contains images of peoples' faces. Your task will be to build a ConvNet that determines whether the people in the images are smiling or not -- because they only get to enter the house if they're smiling!  "
   ]
  },
  {
   "cell_type": "code",
   "execution_count": 2,
   "metadata": {},
   "outputs": [
    {
     "name": "stdout",
     "output_type": "stream",
     "text": [
      "number of training examples = 600\n",
      "number of test examples = 150\n",
      "X_train shape: (600, 64, 64, 3)\n",
      "Y_train shape: (600, 1)\n",
      "X_test shape: (150, 64, 64, 3)\n",
      "Y_test shape: (150, 1)\n"
     ]
    }
   ],
   "source": [
    "X_train_orig, Y_train_orig, X_test_orig, Y_test_orig, classes = load_happy_dataset()\n",
    "\n",
    "# Normalize image vectors\n",
    "X_train = X_train_orig/255.\n",
    "X_test = X_test_orig/255.\n",
    "\n",
    "# Reshape\n",
    "Y_train = Y_train_orig.T\n",
    "Y_test = Y_test_orig.T\n",
    "\n",
    "print (\"number of training examples = \" + str(X_train.shape[0]))\n",
    "print (\"number of test examples = \" + str(X_test.shape[0]))\n",
    "print (\"X_train shape: \" + str(X_train.shape))\n",
    "print (\"Y_train shape: \" + str(Y_train.shape))\n",
    "print (\"X_test shape: \" + str(X_test.shape))\n",
    "print (\"Y_test shape: \" + str(Y_test.shape))"
   ]
  },
  {
   "cell_type": "markdown",
   "metadata": {},
   "source": [
    "You can display the images contained in the dataset. Images are **64x64** pixels in RGB format (3 channels)."
   ]
  },
  {
   "cell_type": "code",
   "execution_count": 3,
   "metadata": {},
   "outputs": [
    {
     "data": {
      "image/png": "[encoded data removed]",
      "text/plain": [
       "<Figure size 432x288 with 1 Axes>"
      ]
     },
     "metadata": {
      "needs_background": "light"
     },
     "output_type": "display_data"
    }
   ],
   "source": [
    "index = 124\n",
    "plt.imshow(X_train_orig[index]) #display sample training image\n",
    "plt.show()"
   ]
  },
  {
   "cell_type": "markdown",
   "metadata": {},
   "source": [
    "<a name='2'></a>\n",
    "## 2 - Layers in TF Keras \n",
    "\n",
    "In the previous assignment, you created layers manually in numpy. In TF Keras, you don't have to write code directly to create layers. Rather, TF Keras has pre-defined layers you can use. \n",
    "\n",
    "When you create a layer in TF Keras, you are creating a function that takes some input and transforms it into an output you can reuse later. Nice and easy! "
   ]
  },
  {
   "cell_type": "markdown",
   "metadata": {},
   "source": [
    "<a name='3'></a>\n",
    "## 3 - The Sequential API\n",
    "\n",
    "In the previous assignment, you built helper functions using `numpy` to understand the mechanics behind convolutional neural networks. Most practical applications of deep learning today are built using programming frameworks, which have many built-in functions you can simply call. Keras is a high-level abstraction built on top of TensorFlow, which allows for even more simplified and optimized model creation and training. \n",
    "\n",
    "For the first part of this assignment, you'll create a model using TF Keras' Sequential API, which allows you to build layer by layer, and is ideal for building models where each layer has **exactly one** input tensor and **one** output tensor. \n",
    "\n",
    "As you'll see, using the Sequential API is simple and straightforward, but is only appropriate for simpler, more straightforward tasks. Later in this notebook you'll spend some time building with a more flexible, powerful alternative: the Functional API. \n",
    " "
   ]
  },
  {
   "cell_type": "markdown",
   "metadata": {},
   "source": [
    "<a name='3-1'></a>\n",
    "### 3.1 - Create the Sequential Model\n",
    "\n",
    "As mentioned earlier, the TensorFlow Keras Sequential API can be used to build simple models with layer operations that proceed in a sequential order. \n",
    "\n",
    "You can also add layers incrementally to a Sequential model with the `.add()` method, or remove them using the `.pop()` method, much like you would in a regular Python list.\n",
    "\n",
    "Actually, you can think of a Sequential model as behaving like a list of layers. Like Python lists, Sequential layers are ordered, and the order in which they are specified matters.  If your model is non-linear or contains layers with multiple inputs or outputs, a Sequential model wouldn't be the right choice!\n",
    "\n",
    "For any layer construction in Keras, you'll need to specify the input shape in advance. This is because in Keras, the shape of the weights is based on the shape of the inputs. The weights are only created when the model first sees some input data. Sequential models can be created by passing a list of layers to the Sequential constructor, like you will do in the next assignment.\n",
    "\n",
    "<a name='ex-1'></a>\n",
    "### Exercise 1 - happyModel\n",
    "\n",
    "Implement the `happyModel` function below to build the following model: `ZEROPAD2D -> CONV2D -> BATCHNORM -> RELU -> MAXPOOL -> FLATTEN -> DENSE`. Take help from [tf.keras.layers](https://www.tensorflow.org/api_docs/python/tf/keras/layers) \n",
    "\n",
    "Also, plug in the following parameters for all the steps:\n",
    "\n",
    " - [ZeroPadding2D](https://www.tensorflow.org/api_docs/python/tf/keras/layers/ZeroPadding2D): padding 3, input shape 64 x 64 x 3\n",
    " - [Conv2D](https://www.tensorflow.org/api_docs/python/tf/keras/layers/Conv2D): Use 32 7x7 filters, stride 1\n",
    " - [BatchNormalization](https://www.tensorflow.org/api_docs/python/tf/keras/layers/BatchNormalization): for axis 3\n",
    " - [ReLU](https://www.tensorflow.org/api_docs/python/tf/keras/layers/ReLU)\n",
    " - [MaxPool2D](https://www.tensorflow.org/api_docs/python/tf/keras/layers/MaxPool2D): Using default parameters\n",
    " - [Flatten](https://www.tensorflow.org/api_docs/python/tf/keras/layers/Flatten) the previous output.\n",
    " - Fully-connected ([Dense](https://www.tensorflow.org/api_docs/python/tf/keras/layers/Dense)) layer: Apply a fully connected layer with 1 neuron and a sigmoid activation. \n",
    " \n",
    " \n",
    " **Hint:**\n",
    " \n",
    " Use **tfl** as shorthand for **tensorflow.keras.layers**"
   ]
  },
  {
   "cell_type": "code",
   "execution_count": 11,
   "metadata": {
    "deletable": false,
    "nbgrader": {
     "cell_type": "code",
     "checksum": "95d28b191f257bdd5b70c7b8952559d5",
     "grade": false,
     "grade_id": "cell-0e56d3fc28b69aec",
     "locked": false,
     "schema_version": 3,
     "solution": true,
     "task": false
    }
   },
   "outputs": [],
   "source": [
    "# GRADED FUNCTION: happyModel\n",
    "\n",
    "def happyModel():\n",
    "    \"\"\"\n",
    "    Implements the forward propagation for the binary classification model:\n",
    "    ZEROPAD2D -> CONV2D -> BATCHNORM -> RELU -> MAXPOOL -> FLATTEN -> DENSE\n",
    "    \n",
    "    Note that for simplicity and grading purposes, you'll hard-code all the values\n",
    "    such as the stride and kernel (filter) sizes. \n",
    "    Normally, functions should take these values as function parameters.\n",
    "    \n",
    "    Arguments:\n",
    "    None\n",
    "\n",
    "    Returns:\n",
    "    model -- TF Keras model (object containing the information for the entire training process) \n",
    "    \"\"\"\n",
    "    model = tf.keras.Sequential([\n",
    "            ## ZeroPadding2D with padding 3, input shape of 64 x 64 x 3\n",
    "            tfl.ZeroPadding2D(padding=3, input_shape=(64, 64, 3)),\n",
    "            ## Conv2D with 32 7x7 filters and stride of 1\n",
    "            tfl.Conv2D(32, (7, 7), (1, 1)),\n",
    "            ## BatchNormalization for axis 3\n",
    "            tfl.BatchNormalization(axis=3),\n",
    "            ## ReLU\n",
    "            tfl.ReLU(),\n",
    "            ## Max Pooling 2D with default parameters\n",
    "            tfl.MaxPooling2D(),\n",
    "            ## Flatten layer\n",
    "            tfl.Flatten(),\n",
    "            ## Dense layer with 1 unit for output & 'sigmoid' activation\n",
    "            tfl.Dense(1, \"sigmoid\")\n",
    "        ])\n",
    "    \n",
    "    return model"
   ]
  },
  {
   "cell_type": "code",
   "execution_count": 12,
   "metadata": {
    "deletable": false,
    "editable": false,
    "nbgrader": {
     "cell_type": "code",
     "checksum": "8d3575c950e2e78149be2d05d671c80d",
     "grade": true,
     "grade_id": "cell-e3e1046e5c33d775",
     "locked": true,
     "points": 10,
     "schema_version": 3,
     "solution": false,
     "task": false
    }
   },
   "outputs": [
    {
     "name": "stdout",
     "output_type": "stream",
     "text": [
      "['ZeroPadding2D', (None, 70, 70, 3), 0, ((3, 3), (3, 3))]\n",
      "['Conv2D', (None, 64, 64, 32), 4736, 'valid', 'linear', 'GlorotUniform']\n",
      "['BatchNormalization', (None, 64, 64, 32), 128]\n",
      "['ReLU', (None, 64, 64, 32), 0]\n",
      "['MaxPooling2D', (None, 32, 32, 32), 0, (2, 2), (2, 2), 'valid']\n",
      "['Flatten', (None, 32768), 0]\n",
      "['Dense', (None, 1), 32769, 'sigmoid']\n",
      "\u001b[32mAll tests passed!\u001b[0m\n"
     ]
    }
   ],
   "source": [
    "happy_model = happyModel()\n",
    "# Print a summary for each layer\n",
    "for layer in summary(happy_model):\n",
    "    print(layer)\n",
    "    \n",
    "output = [['ZeroPadding2D', (None, 70, 70, 3), 0, ((3, 3), (3, 3))],\n",
    "            ['Conv2D', (None, 64, 64, 32), 4736, 'valid', 'linear', 'GlorotUniform'],\n",
    "            ['BatchNormalization', (None, 64, 64, 32), 128],\n",
    "            ['ReLU', (None, 64, 64, 32), 0],\n",
    "            ['MaxPooling2D', (None, 32, 32, 32), 0, (2, 2), (2, 2), 'valid'],\n",
    "            ['Flatten', (None, 32768), 0],\n",
    "            ['Dense', (None, 1), 32769, 'sigmoid']]\n",
    "    \n",
    "comparator(summary(happy_model), output)"
   ]
  },
  {
   "cell_type": "markdown",
   "metadata": {},
   "source": [
    "Now that your model is created, you can compile it for training with an optimizer and loss of your choice. When the string `accuracy` is specified as a metric, the type of accuracy used will be automatically converted based on the loss function used. This is one of the many optimizations built into TensorFlow that make your life easier! If you'd like to read more on how the compiler operates, check the docs [here](https://www.tensorflow.org/api_docs/python/tf/keras/Model#compile)."
   ]
  },
  {
   "cell_type": "code",
   "execution_count": 13,
   "metadata": {},
   "outputs": [],
   "source": [
    "happy_model.compile(optimizer='adam',\n",
    "                   loss='binary_crossentropy',\n",
    "                   metrics=['accuracy'])"
   ]
  },
  {
   "cell_type": "markdown",
   "metadata": {},
   "source": [
    "It's time to check your model's parameters with the `.summary()` method. This will display the types of layers you have, the shape of the outputs, and how many parameters are in each layer. "
   ]
  },
  {
   "cell_type": "code",
   "execution_count": 14,
   "metadata": {},
   "outputs": [
    {
     "name": "stdout",
     "output_type": "stream",
     "text": [
      "Model: \"sequential_4\"\n",
      "_________________________________________________________________\n",
      "Layer (type)                 Output Shape              Param #   \n",
      "=================================================================\n",
      "zero_padding2d_4 (ZeroPaddin (None, 70, 70, 3)         0         \n",
      "_________________________________________________________________\n",
      "conv2d_4 (Conv2D)            (None, 64, 64, 32)        4736      \n",
      "_________________________________________________________________\n",
      "batch_normalization_4 (Batch (None, 64, 64, 32)        128       \n",
      "_________________________________________________________________\n",
      "re_lu_4 (ReLU)               (None, 64, 64, 32)        0         \n",
      "_________________________________________________________________\n",
      "max_pooling2d_4 (MaxPooling2 (None, 32, 32, 32)        0         \n",
      "_________________________________________________________________\n",
      "flatten_4 (Flatten)          (None, 32768)             0         \n",
      "_________________________________________________________________\n",
      "dense_4 (Dense)              (None, 1)                 32769     \n",
      "=================================================================\n",
      "Total params: 37,633\n",
      "Trainable params: 37,569\n",
      "Non-trainable params: 64\n",
      "_________________________________________________________________\n"
     ]
    }
   ],
   "source": [
    "happy_model.summary()"
   ]
  },
  {
   "cell_type": "markdown",
   "metadata": {},
   "source": [
    "<a name='3-2'></a>\n",
    "### 3.2 - Train and Evaluate the Model\n",
    "\n",
    "After creating the model, compiling it with your choice of optimizer and loss function, and doing a sanity check on its contents, you are now ready to build! \n",
    "\n",
    "Simply call `.fit()` to train. That's it! No need for mini-batching, saving, or complex backpropagation computations. That's all been done for you, as you're using a TensorFlow dataset with the batches specified already. You do have the option to specify epoch number or minibatch size if you like (for example, in the case of an un-batched dataset)."
   ]
  },
  {
   "cell_type": "code",
   "execution_count": 17,
   "metadata": {},
   "outputs": [
    {
     "name": "stdout",
     "output_type": "stream",
     "text": [
      "Epoch 1/10\n",
      "38/38 [==============================] - 2s 61ms/step - loss: 0.1305 - accuracy: 0.9467\n",
      "Epoch 2/10\n",
      "38/38 [==============================] - 2s 55ms/step - loss: 0.0911 - accuracy: 0.9650\n",
      "Epoch 3/10\n",
      "38/38 [==============================] - 2s 54ms/step - loss: 0.0639 - accuracy: 0.9767\n",
      "Epoch 4/10\n",
      "38/38 [==============================] - 2s 52ms/step - loss: 0.0486 - accuracy: 0.9883\n",
      "Epoch 5/10\n",
      "38/38 [==============================] - 2s 53ms/step - loss: 0.0686 - accuracy: 0.9783\n",
      "Epoch 6/10\n",
      "38/38 [==============================] - 2s 55ms/step - loss: 0.0693 - accuracy: 0.9733\n",
      "Epoch 7/10\n",
      "38/38 [==============================] - 2s 53ms/step - loss: 0.0699 - accuracy: 0.9733\n",
      "Epoch 8/10\n",
      "38/38 [==============================] - 2s 55ms/step - loss: 0.0835 - accuracy: 0.9683\n",
      "Epoch 9/10\n",
      "38/38 [==============================] - 2s 54ms/step - loss: 0.0620 - accuracy: 0.9733\n",
      "Epoch 10/10\n",
      "38/38 [==============================] - 2s 54ms/step - loss: 0.0324 - accuracy: 0.9883\n"
     ]
    },
    {
     "data": {
      "text/plain": [
       "<keras.callbacks.History at 0x16eff49e8>"
      ]
     },
     "execution_count": 17,
     "metadata": {},
     "output_type": "execute_result"
    }
   ],
   "source": [
    "happy_model.fit(X_train, Y_train, epochs=10, batch_size=16)"
   ]
  },
  {
   "cell_type": "markdown",
   "metadata": {},
   "source": [
    "After that completes, just use `.evaluate()` to evaluate against your test set. This function will print the value of the loss function and the performance metrics specified during the compilation of the model. In this case, the `binary_crossentropy` and the `accuracy` respectively."
   ]
  },
  {
   "cell_type": "code",
   "execution_count": 18,
   "metadata": {},
   "outputs": [
    {
     "name": "stdout",
     "output_type": "stream",
     "text": [
      "5/5 [==============================] - 0s 24ms/step - loss: 0.1183 - accuracy: 0.9733\n"
     ]
    },
    {
     "data": {
      "text/plain": [
       "[0.11830893158912659, 0.9733333587646484]"
      ]
     },
     "execution_count": 18,
     "metadata": {},
     "output_type": "execute_result"
    }
   ],
   "source": [
    "happy_model.evaluate(X_test, Y_test)"
   ]
  },
  {
   "cell_type": "markdown",
   "metadata": {},
   "source": [
    "Easy, right? But what if you need to build a model with shared layers, branches, or multiple inputs and outputs? This is where Sequential, with its beautifully simple yet limited functionality, won't be able to help you. \n",
    "\n",
    "Next up: Enter the Functional API, your slightly more complex, highly flexible friend.  "
   ]
  },
  {
   "cell_type": "markdown",
   "metadata": {},
   "source": [
    "<a name='4'></a>\n",
    "## 4 - The Functional API"
   ]
  },
  {
   "cell_type": "markdown",
   "metadata": {},
   "source": [
    "Welcome to the second half of the assignment, where you'll use Keras' flexible [Functional API](https://www.tensorflow.org/guide/keras/functional) to build a ConvNet that can differentiate between 6 sign language digits. \n",
    "\n",
    "The Functional API can handle models with non-linear topology, shared layers, as well as layers with multiple inputs or outputs. Imagine that, where the Sequential API requires the model to move in a linear fashion through its layers, the Functional API allows much more flexibility. Where Sequential is a straight line, a Functional model is a graph, where the nodes of the layers can connect in many more ways than one. \n",
    "\n",
    "In the visual example below, the one possible direction of the movement Sequential model is shown in contrast to a skip connection, which is just one of the many ways a Functional model can be constructed. A skip connection, as you might have guessed, skips some layer in the network and feeds the output to a later layer in the network. Don't worry, you'll be spending more time with skip connections very soon! "
   ]
  },
  {
   "cell_type": "markdown",
   "metadata": {},
   "source": [
    "<img src=\"images/seq_vs_func.png\" style=\"width:350px;height:200px;\">"
   ]
  },
  {
   "cell_type": "markdown",
   "metadata": {},
   "source": [
    "<a name='4-1'></a>\n",
    "### 4.1 - Load the SIGNS Dataset\n",
    "\n",
    "As a reminder, the SIGNS dataset is a collection of 6 signs representing numbers from 0 to 5."
   ]
  },
  {
   "cell_type": "code",
   "execution_count": 19,
   "metadata": {},
   "outputs": [],
   "source": [
    "# Loading the data (signs)\n",
    "X_train_orig, Y_train_orig, X_test_orig, Y_test_orig, classes = load_signs_dataset()"
   ]
  },
  {
   "cell_type": "markdown",
   "metadata": {},
   "source": [
    "<img src=\"images/SIGNS.png\" style=\"width:800px;height:300px;\">\n",
    "\n",
    "The next cell will show you an example of a labelled image in the dataset. Feel free to change the value of `index` below and re-run to see different examples. "
   ]
  },
  {
   "cell_type": "code",
   "execution_count": 20,
   "metadata": {},
   "outputs": [
    {
     "name": "stdout",
     "output_type": "stream",
     "text": [
      "y = 4\n"
     ]
    },
    {
     "data": {
      "image/png": "[encoded data removed]",
      "text/plain": [
       "<Figure size 432x288 with 1 Axes>"
      ]
     },
     "metadata": {
      "needs_background": "light"
     },
     "output_type": "display_data"
    }
   ],
   "source": [
    "# Example of an image from the dataset\n",
    "index = 9\n",
    "plt.imshow(X_train_orig[index])\n",
    "print (\"y = \" + str(np.squeeze(Y_train_orig[:, index])))"
   ]
  },
  {
   "cell_type": "markdown",
   "metadata": {},
   "source": [
    "<a name='4-2'></a>\n",
    "### 4.2 - Split the Data into Train/Test Sets\n",
    "\n",
    "In Course 2, you built a fully-connected network for this dataset. But since this is an image dataset, it is more natural to apply a ConvNet to it.\n",
    "\n",
    "To get started, let's examine the shapes of your data. "
   ]
  },
  {
   "cell_type": "code",
   "execution_count": 21,
   "metadata": {},
   "outputs": [
    {
     "name": "stdout",
     "output_type": "stream",
     "text": [
      "number of training examples = 1080\n",
      "number of test examples = 120\n",
      "X_train shape: (1080, 64, 64, 3)\n",
      "Y_train shape: (1080, 6)\n",
      "X_test shape: (120, 64, 64, 3)\n",
      "Y_test shape: (120, 6)\n"
     ]
    }
   ],
   "source": [
    "X_train = X_train_orig/255.\n",
    "X_test = X_test_orig/255.\n",
    "Y_train = convert_to_one_hot(Y_train_orig, 6).T\n",
    "Y_test = convert_to_one_hot(Y_test_orig, 6).T\n",
    "print (\"number of training examples = \" + str(X_train.shape[0]))\n",
    "print (\"number of test examples = \" + str(X_test.shape[0]))\n",
    "print (\"X_train shape: \" + str(X_train.shape))\n",
    "print (\"Y_train shape: \" + str(Y_train.shape))\n",
    "print (\"X_test shape: \" + str(X_test.shape))\n",
    "print (\"Y_test shape: \" + str(Y_test.shape))"
   ]
  },
  {
   "cell_type": "markdown",
   "metadata": {},
   "source": [
    "<a name='4-3'></a>\n",
    "### 4.3 - Forward Propagation\n",
    "\n",
    "In TensorFlow, there are built-in functions that implement the convolution steps for you. By now, you should be familiar with how TensorFlow builds computational graphs. In the [Functional API](https://www.tensorflow.org/guide/keras/functional), you create a graph of layers. This is what allows such great flexibility.\n",
    "\n",
    "However, the following model could also be defined using the Sequential API since the information flow is on a single line. But don't deviate. What we want you to learn is to use the functional API.\n",
    "\n",
    "Begin building your graph of layers by creating an input node that functions as a callable object:\n",
    "\n",
    "- **input_img = tf.keras.Input(shape=input_shape):** \n",
    "\n",
    "Then, create a new node in the graph of layers by calling a layer on the `input_img` object: \n",
    "\n",
    "- **tf.keras.layers.Conv2D(filters= ... , kernel_size= ... , padding='same')(input_img):** Read the full documentation on [Conv2D](https://www.tensorflow.org/api_docs/python/tf/keras/layers/Conv2D).\n",
    "\n",
    "- **tf.keras.layers.MaxPool2D(pool_size=(f, f), strides=(s, s), padding='same'):** `MaxPool2D()` downsamples your input using a window of size (f, f) and strides of size (s, s) to carry out max pooling over each window.  For max pooling, you usually operate on a single example at a time and a single channel at a time. Read the full documentation on [MaxPool2D](https://www.tensorflow.org/api_docs/python/tf/keras/layers/MaxPool2D).\n",
    "\n",
    "- **tf.keras.layers.ReLU():** computes the elementwise ReLU of Z (which can be any shape). You can read the full documentation on [ReLU](https://www.tensorflow.org/api_docs/python/tf/keras/layers/ReLU).\n",
    "\n",
    "- **tf.keras.layers.Flatten()**: given a tensor \"P\", this function takes each training (or test) example in the batch and flattens it into a 1D vector.  \n",
    "\n",
    "    * If a tensor P has the shape (batch_size,h,w,c), it returns a flattened tensor with shape (batch_size, k), where $k=h \\times w \\times c$.  \"k\" equals the product of all the dimension sizes other than the first dimension.\n",
    "    \n",
    "    * For example, given a tensor with dimensions [100, 2, 3, 4], it flattens the tensor to be of shape [100, 24], where 24 = 2 * 3 * 4.  You can read the full documentation on [Flatten](https://www.tensorflow.org/api_docs/python/tf/keras/layers/Flatten).\n",
    "\n",
    "- **tf.keras.layers.Dense(units= ... , activation='softmax')(F):** given the flattened input F, it returns the output computed using a fully connected layer. You can read the full documentation on [Dense](https://www.tensorflow.org/api_docs/python/tf/keras/layers/Dense).\n",
    "\n",
    "In the last function above (`tf.keras.layers.Dense()`), the fully connected layer automatically initializes weights in the graph and keeps on training them as you train the model. Hence, you did not need to initialize those weights when initializing the parameters.\n",
    "\n",
    "Lastly, before creating the model, you'll need to define the output using the last of the function's compositions (in this example, a Dense layer): \n",
    "\n",
    "- **outputs = tf.keras.layers.Dense(units=6, activation='softmax')(F)**\n",
    "\n",
    "\n",
    "#### Window, kernel, filter, pool\n",
    "\n",
    "The words \"kernel\" and \"filter\" are used to refer to the same thing. The word \"filter\" accounts for the amount of \"kernels\" that will be used in a single convolution layer. \"Pool\" is the name of the operation that takes the max or average value of the kernels. \n",
    "\n",
    "This is why the parameter `pool_size` refers to `kernel_size`, and you use `(f,f)` to refer to the filter size. \n",
    "\n",
    "Pool size and kernel size refer to the same thing in different objects - They refer to the shape of the window where the operation takes place. "
   ]
  },
  {
   "cell_type": "markdown",
   "metadata": {},
   "source": [
    "<a name='ex-2'></a>\n",
    "### Exercise 2 - convolutional_model\n",
    "\n",
    "Implement the `convolutional_model` function below to build the following model: `CONV2D -> RELU -> MAXPOOL -> CONV2D -> RELU -> MAXPOOL -> FLATTEN -> DENSE`. Use the functions above! \n",
    "\n",
    "Also, plug in the following parameters for all the steps:\n",
    "\n",
    " - [Conv2D](https://www.tensorflow.org/api_docs/python/tf/keras/layers/Conv2D): Use 8 4 by 4 filters, stride 1, padding is \"SAME\"\n",
    " - [ReLU](https://www.tensorflow.org/api_docs/python/tf/keras/layers/ReLU)\n",
    " - [MaxPool2D](https://www.tensorflow.org/api_docs/python/tf/keras/layers/MaxPool2D): Use an 8 by 8 filter size and an 8 by 8 stride, padding is \"SAME\"\n",
    " - **Conv2D**: Use 16 2 by 2 filters, stride 1, padding is \"SAME\"\n",
    " - **ReLU**\n",
    " - **MaxPool2D**: Use a 4 by 4 filter size and a 4 by 4 stride, padding is \"SAME\"\n",
    " - [Flatten](https://www.tensorflow.org/api_docs/python/tf/keras/layers/Flatten) the previous output.\n",
    " - Fully-connected ([Dense](https://www.tensorflow.org/api_docs/python/tf/keras/layers/Dense)) layer: Apply a fully connected layer with 6 neurons and a softmax activation. "
   ]
  },
  {
   "cell_type": "code",
   "execution_count": 22,
   "metadata": {
    "deletable": false,
    "nbgrader": {
     "cell_type": "code",
     "checksum": "f58643806aa8380c96225fc8b4c5e7aa",
     "grade": false,
     "grade_id": "cell-dac51744a9e03f51",
     "locked": false,
     "schema_version": 3,
     "solution": true,
     "task": false
    }
   },
   "outputs": [],
   "source": [
    "# GRADED FUNCTION: convolutional_model\n",
    "\n",
    "def convolutional_model(input_shape):\n",
    "    \"\"\"\n",
    "    Implements the forward propagation for the model:\n",
    "    CONV2D -> RELU -> MAXPOOL -> CONV2D -> RELU -> MAXPOOL -> FLATTEN -> DENSE\n",
    "    \n",
    "    Note that for simplicity and grading purposes, you'll hard-code some values\n",
    "    such as the stride and kernel (filter) sizes. \n",
    "    Normally, functions should take these values as function parameters.\n",
    "    \n",
    "    Arguments:\n",
    "    input_img -- input dataset, of shape (input_shape)\n",
    "\n",
    "    Returns:\n",
    "    model -- TF Keras model (object containing the information for the entire training process) \n",
    "    \"\"\"\n",
    "\n",
    "    input_img = tf.keras.Input(shape=input_shape)\n",
    "    ## CONV2D: 8 filters 4x4, stride of 1, padding 'SAME'\n",
    "    Z1 = tfl.Conv2D(8, (4, 4), (1, 1), \"same\")(input_img)\n",
    "    ## RELU\n",
    "    A1 = tfl.ReLU()(Z1)\n",
    "    ## MAXPOOL: window 8x8, stride 8, padding 'SAME'\n",
    "    P1 = tfl.MaxPooling2D((8, 8), (8, 8), \"same\")(A1)\n",
    "    ## CONV2D: 16 filters 2x2, stride 1, padding 'SAME'\n",
    "    Z2 = tfl.Conv2D(16, (2, 2), (1, 1), \"same\")(P1)\n",
    "    ## RELU\n",
    "    A2 = tfl.ReLU()(Z2)\n",
    "    ## MAXPOOL: window 4x4, stride 4, padding 'SAME'\n",
    "    P2 = tfl.MaxPool2D((4, 4), (4, 4), \"same\")(A2)\n",
    "    ## FLATTEN\n",
    "    F = tfl.Flatten()(P2)\n",
    "    ## Dense layer\n",
    "    ## 6 neurons in output layer. Hint: one of the arguments should be \"activation='softmax'\" \n",
    "    outputs = tfl.Dense(6, \"softmax\")(F)\n",
    "\n",
    "    model = tf.keras.Model(inputs=input_img, outputs=outputs)\n",
    "    return model"
   ]
  },
  {
   "cell_type": "code",
   "execution_count": 23,
   "metadata": {
    "deletable": false,
    "editable": false,
    "nbgrader": {
     "cell_type": "code",
     "checksum": "483d626949930a0b0ef20997e7c6ba72",
     "grade": true,
     "grade_id": "cell-45d22e92042174c9",
     "locked": true,
     "points": 10,
     "schema_version": 3,
     "solution": false,
     "task": false
    }
   },
   "outputs": [
    {
     "name": "stdout",
     "output_type": "stream",
     "text": [
      "Model: \"model\"\n",
      "_________________________________________________________________\n",
      "Layer (type)                 Output Shape              Param #   \n",
      "=================================================================\n",
      "input_1 (InputLayer)         [(None, 64, 64, 3)]       0         \n",
      "_________________________________________________________________\n",
      "conv2d_5 (Conv2D)            (None, 64, 64, 8)         392       \n",
      "_________________________________________________________________\n",
      "re_lu_5 (ReLU)               (None, 64, 64, 8)         0         \n",
      "_________________________________________________________________\n",
      "max_pooling2d_5 (MaxPooling2 (None, 8, 8, 8)           0         \n",
      "_________________________________________________________________\n",
      "conv2d_6 (Conv2D)            (None, 8, 8, 16)          528       \n",
      "_________________________________________________________________\n",
      "re_lu_6 (ReLU)               (None, 8, 8, 16)          0         \n",
      "_________________________________________________________________\n",
      "max_pooling2d_6 (MaxPooling2 (None, 2, 2, 16)          0         \n",
      "_________________________________________________________________\n",
      "flatten_5 (Flatten)          (None, 64)                0         \n",
      "_________________________________________________________________\n",
      "dense_5 (Dense)              (None, 6)                 390       \n",
      "=================================================================\n",
      "Total params: 1,310\n",
      "Trainable params: 1,310\n",
      "Non-trainable params: 0\n",
      "_________________________________________________________________\n",
      "\u001b[32mAll tests passed!\u001b[0m\n"
     ]
    }
   ],
   "source": [
    "conv_model = convolutional_model((64, 64, 3))\n",
    "conv_model.compile(optimizer='adam',\n",
    "                  loss='categorical_crossentropy',\n",
    "                  metrics=['accuracy'])\n",
    "conv_model.summary()\n",
    "    \n",
    "output = [['InputLayer', [(None, 64, 64, 3)], 0],\n",
    "        ['Conv2D', (None, 64, 64, 8), 392, 'same', 'linear', 'GlorotUniform'],\n",
    "        ['ReLU', (None, 64, 64, 8), 0],\n",
    "        ['MaxPooling2D', (None, 8, 8, 8), 0, (8, 8), (8, 8), 'same'],\n",
    "        ['Conv2D', (None, 8, 8, 16), 528, 'same', 'linear', 'GlorotUniform'],\n",
    "        ['ReLU', (None, 8, 8, 16), 0],\n",
    "        ['MaxPooling2D', (None, 2, 2, 16), 0, (4, 4), (4, 4), 'same'],\n",
    "        ['Flatten', (None, 64), 0],\n",
    "        ['Dense', (None, 6), 390, 'softmax']]\n",
    "    \n",
    "comparator(summary(conv_model), output)"
   ]
  },
  {
   "cell_type": "markdown",
   "metadata": {},
   "source": [
    "Both the Sequential and Functional APIs return a TF Keras model object. The only difference is how inputs are handled inside the object model! "
   ]
  },
  {
   "cell_type": "markdown",
   "metadata": {},
   "source": [
    "<a name='4-4'></a>\n",
    "### 4.4 - Train the Model"
   ]
  },
  {
   "cell_type": "code",
   "execution_count": 24,
   "metadata": {},
   "outputs": [
    {
     "name": "stdout",
     "output_type": "stream",
     "text": [
      "Epoch 1/100\n",
      "17/17 [==============================] - 1s 52ms/step - loss: 1.7945 - accuracy: 0.1769 - val_loss: 1.7823 - val_accuracy: 0.1333\n",
      "Epoch 2/100\n",
      "17/17 [==============================] - 1s 34ms/step - loss: 1.7854 - accuracy: 0.1685 - val_loss: 1.7773 - val_accuracy: 0.2500\n",
      "Epoch 3/100\n",
      "17/17 [==============================] - 1s 34ms/step - loss: 1.7810 - accuracy: 0.2537 - val_loss: 1.7733 - val_accuracy: 0.3167\n",
      "Epoch 4/100\n",
      "17/17 [==============================] - 1s 33ms/step - loss: 1.7776 - accuracy: 0.3074 - val_loss: 1.7693 - val_accuracy: 0.3417\n",
      "Epoch 5/100\n",
      "17/17 [==============================] - 1s 37ms/step - loss: 1.7740 - accuracy: 0.3157 - val_loss: 1.7641 - val_accuracy: 0.3417\n",
      "Epoch 6/100\n",
      "17/17 [==============================] - 1s 35ms/step - loss: 1.7697 - accuracy: 0.3259 - val_loss: 1.7577 - val_accuracy: 0.3583\n",
      "Epoch 7/100\n",
      "17/17 [==============================] - 1s 35ms/step - loss: 1.7646 - accuracy: 0.3231 - val_loss: 1.7511 - val_accuracy: 0.4167\n",
      "Epoch 8/100\n",
      "17/17 [==============================] - 1s 34ms/step - loss: 1.7588 - accuracy: 0.3352 - val_loss: 1.7430 - val_accuracy: 0.3750\n",
      "Epoch 9/100\n",
      "17/17 [==============================] - 1s 43ms/step - loss: 1.7515 - accuracy: 0.3481 - val_loss: 1.7332 - val_accuracy: 0.4250\n",
      "Epoch 10/100\n",
      "17/17 [==============================] - 1s 40ms/step - loss: 1.7434 - accuracy: 0.3583 - val_loss: 1.7220 - val_accuracy: 0.4333\n",
      "Epoch 11/100\n",
      "17/17 [==============================] - 1s 36ms/step - loss: 1.7337 - accuracy: 0.3593 - val_loss: 1.7096 - val_accuracy: 0.4333\n",
      "Epoch 12/100\n",
      "17/17 [==============================] - 1s 35ms/step - loss: 1.7228 - accuracy: 0.3722 - val_loss: 1.6949 - val_accuracy: 0.4250\n",
      "Epoch 13/100\n",
      "17/17 [==============================] - 1s 34ms/step - loss: 1.7105 - accuracy: 0.3796 - val_loss: 1.6790 - val_accuracy: 0.4250\n",
      "Epoch 14/100\n",
      "17/17 [==============================] - 1s 44ms/step - loss: 1.6966 - accuracy: 0.3778 - val_loss: 1.6618 - val_accuracy: 0.4500\n",
      "Epoch 15/100\n",
      "17/17 [==============================] - 1s 45ms/step - loss: 1.6816 - accuracy: 0.3824 - val_loss: 1.6431 - val_accuracy: 0.4333\n",
      "Epoch 16/100\n",
      "17/17 [==============================] - 1s 50ms/step - loss: 1.6643 - accuracy: 0.3917 - val_loss: 1.6240 - val_accuracy: 0.4417\n",
      "Epoch 17/100\n",
      "17/17 [==============================] - 1s 38ms/step - loss: 1.6467 - accuracy: 0.3926 - val_loss: 1.6022 - val_accuracy: 0.4500\n",
      "Epoch 18/100\n",
      "17/17 [==============================] - 1s 38ms/step - loss: 1.6273 - accuracy: 0.3963 - val_loss: 1.5796 - val_accuracy: 0.4500\n",
      "Epoch 19/100\n",
      "17/17 [==============================] - 1s 38ms/step - loss: 1.6056 - accuracy: 0.4157 - val_loss: 1.5572 - val_accuracy: 0.4833\n",
      "Epoch 20/100\n",
      "17/17 [==============================] - 1s 39ms/step - loss: 1.5835 - accuracy: 0.4231 - val_loss: 1.5331 - val_accuracy: 0.4750\n",
      "Epoch 21/100\n",
      "17/17 [==============================] - 1s 42ms/step - loss: 1.5596 - accuracy: 0.4417 - val_loss: 1.5088 - val_accuracy: 0.4750\n",
      "Epoch 22/100\n",
      "17/17 [==============================] - 1s 42ms/step - loss: 1.5355 - accuracy: 0.4500 - val_loss: 1.4842 - val_accuracy: 0.4750\n",
      "Epoch 23/100\n",
      "17/17 [==============================] - 1s 51ms/step - loss: 1.5087 - accuracy: 0.4722 - val_loss: 1.4578 - val_accuracy: 0.4667\n",
      "Epoch 24/100\n",
      "17/17 [==============================] - 1s 39ms/step - loss: 1.4800 - accuracy: 0.4815 - val_loss: 1.4321 - val_accuracy: 0.5167\n",
      "Epoch 25/100\n",
      "17/17 [==============================] - 1s 53ms/step - loss: 1.4501 - accuracy: 0.4991 - val_loss: 1.4040 - val_accuracy: 0.5250\n",
      "Epoch 26/100\n",
      "17/17 [==============================] - 1s 38ms/step - loss: 1.4191 - accuracy: 0.5130 - val_loss: 1.3772 - val_accuracy: 0.5500\n",
      "Epoch 27/100\n",
      "17/17 [==============================] - 1s 37ms/step - loss: 1.3893 - accuracy: 0.5194 - val_loss: 1.3497 - val_accuracy: 0.5417\n",
      "Epoch 28/100\n",
      "17/17 [==============================] - 1s 37ms/step - loss: 1.3595 - accuracy: 0.5241 - val_loss: 1.3243 - val_accuracy: 0.5333\n",
      "Epoch 29/100\n",
      "17/17 [==============================] - 1s 36ms/step - loss: 1.3281 - accuracy: 0.5287 - val_loss: 1.2967 - val_accuracy: 0.5500\n",
      "Epoch 30/100\n",
      "17/17 [==============================] - 1s 36ms/step - loss: 1.2976 - accuracy: 0.5417 - val_loss: 1.2715 - val_accuracy: 0.5417\n",
      "Epoch 31/100\n",
      "17/17 [==============================] - 1s 37ms/step - loss: 1.2677 - accuracy: 0.5454 - val_loss: 1.2458 - val_accuracy: 0.5417\n",
      "Epoch 32/100\n",
      "17/17 [==============================] - 1s 38ms/step - loss: 1.2388 - accuracy: 0.5611 - val_loss: 1.2227 - val_accuracy: 0.5417\n",
      "Epoch 33/100\n",
      "17/17 [==============================] - 1s 47ms/step - loss: 1.2099 - accuracy: 0.5722 - val_loss: 1.1970 - val_accuracy: 0.5667\n",
      "Epoch 34/100\n",
      "17/17 [==============================] - 1s 39ms/step - loss: 1.1828 - accuracy: 0.5870 - val_loss: 1.1733 - val_accuracy: 0.5917\n",
      "Epoch 35/100\n",
      "17/17 [==============================] - 1s 47ms/step - loss: 1.1565 - accuracy: 0.5907 - val_loss: 1.1497 - val_accuracy: 0.5667\n",
      "Epoch 36/100\n",
      "17/17 [==============================] - 1s 55ms/step - loss: 1.1310 - accuracy: 0.6019 - val_loss: 1.1286 - val_accuracy: 0.5917\n",
      "Epoch 37/100\n",
      "17/17 [==============================] - 1s 40ms/step - loss: 1.1070 - accuracy: 0.6120 - val_loss: 1.1077 - val_accuracy: 0.6167\n",
      "Epoch 38/100\n",
      "17/17 [==============================] - 1s 48ms/step - loss: 1.0840 - accuracy: 0.6194 - val_loss: 1.0883 - val_accuracy: 0.6083\n",
      "Epoch 39/100\n",
      "17/17 [==============================] - 1s 46ms/step - loss: 1.0625 - accuracy: 0.6269 - val_loss: 1.0718 - val_accuracy: 0.6083\n",
      "Epoch 40/100\n",
      "17/17 [==============================] - 1s 38ms/step - loss: 1.0420 - accuracy: 0.6352 - val_loss: 1.0566 - val_accuracy: 0.6083\n",
      "Epoch 41/100\n",
      "17/17 [==============================] - 1s 46ms/step - loss: 1.0229 - accuracy: 0.6389 - val_loss: 1.0393 - val_accuracy: 0.6000\n",
      "Epoch 42/100\n",
      "17/17 [==============================] - 1s 45ms/step - loss: 1.0028 - accuracy: 0.6463 - val_loss: 1.0260 - val_accuracy: 0.5917\n",
      "Epoch 43/100\n",
      "17/17 [==============================] - 1s 37ms/step - loss: 0.9856 - accuracy: 0.6491 - val_loss: 1.0102 - val_accuracy: 0.5917\n",
      "Epoch 44/100\n",
      "17/17 [==============================] - 1s 37ms/step - loss: 0.9690 - accuracy: 0.6454 - val_loss: 0.9970 - val_accuracy: 0.6083\n",
      "Epoch 45/100\n",
      "17/17 [==============================] - 1s 38ms/step - loss: 0.9516 - accuracy: 0.6546 - val_loss: 0.9820 - val_accuracy: 0.6167\n",
      "Epoch 46/100\n",
      "17/17 [==============================] - 1s 39ms/step - loss: 0.9356 - accuracy: 0.6630 - val_loss: 0.9689 - val_accuracy: 0.6167\n",
      "Epoch 47/100\n",
      "17/17 [==============================] - 1s 37ms/step - loss: 0.9198 - accuracy: 0.6713 - val_loss: 0.9600 - val_accuracy: 0.6250\n",
      "Epoch 48/100\n",
      "17/17 [==============================] - 1s 38ms/step - loss: 0.9050 - accuracy: 0.6713 - val_loss: 0.9487 - val_accuracy: 0.6250\n",
      "Epoch 49/100\n",
      "17/17 [==============================] - 1s 49ms/step - loss: 0.8913 - accuracy: 0.6769 - val_loss: 0.9350 - val_accuracy: 0.6333\n",
      "Epoch 50/100\n",
      "17/17 [==============================] - 1s 39ms/step - loss: 0.8777 - accuracy: 0.6824 - val_loss: 0.9255 - val_accuracy: 0.6333\n",
      "Epoch 51/100\n",
      "17/17 [==============================] - 1s 40ms/step - loss: 0.8647 - accuracy: 0.6880 - val_loss: 0.9153 - val_accuracy: 0.6333\n",
      "Epoch 52/100\n",
      "17/17 [==============================] - 1s 36ms/step - loss: 0.8522 - accuracy: 0.6843 - val_loss: 0.9050 - val_accuracy: 0.6417\n",
      "Epoch 53/100\n",
      "17/17 [==============================] - 1s 44ms/step - loss: 0.8403 - accuracy: 0.6870 - val_loss: 0.8940 - val_accuracy: 0.6417\n",
      "Epoch 54/100\n",
      "17/17 [==============================] - 1s 41ms/step - loss: 0.8294 - accuracy: 0.6898 - val_loss: 0.8848 - val_accuracy: 0.6417\n",
      "Epoch 55/100\n",
      "17/17 [==============================] - 1s 42ms/step - loss: 0.8184 - accuracy: 0.6907 - val_loss: 0.8755 - val_accuracy: 0.6583\n",
      "Epoch 56/100\n",
      "17/17 [==============================] - 1s 38ms/step - loss: 0.8081 - accuracy: 0.7009 - val_loss: 0.8645 - val_accuracy: 0.6500\n",
      "Epoch 57/100\n",
      "17/17 [==============================] - 1s 38ms/step - loss: 0.7982 - accuracy: 0.7093 - val_loss: 0.8553 - val_accuracy: 0.6583\n",
      "Epoch 58/100\n",
      "17/17 [==============================] - 1s 40ms/step - loss: 0.7882 - accuracy: 0.7120 - val_loss: 0.8504 - val_accuracy: 0.6583\n",
      "Epoch 59/100\n",
      "17/17 [==============================] - 1s 51ms/step - loss: 0.7782 - accuracy: 0.7204 - val_loss: 0.8409 - val_accuracy: 0.6583\n",
      "Epoch 60/100\n",
      "17/17 [==============================] - 1s 45ms/step - loss: 0.7692 - accuracy: 0.7250 - val_loss: 0.8307 - val_accuracy: 0.6583\n",
      "Epoch 61/100\n",
      "17/17 [==============================] - 1s 39ms/step - loss: 0.7601 - accuracy: 0.7296 - val_loss: 0.8245 - val_accuracy: 0.6583\n",
      "Epoch 62/100\n",
      "17/17 [==============================] - 1s 41ms/step - loss: 0.7512 - accuracy: 0.7352 - val_loss: 0.8167 - val_accuracy: 0.6583\n",
      "Epoch 63/100\n",
      "17/17 [==============================] - 1s 39ms/step - loss: 0.7428 - accuracy: 0.7398 - val_loss: 0.8122 - val_accuracy: 0.6667\n",
      "Epoch 64/100\n",
      "17/17 [==============================] - 1s 39ms/step - loss: 0.7348 - accuracy: 0.7444 - val_loss: 0.8032 - val_accuracy: 0.6667\n",
      "Epoch 65/100\n",
      "17/17 [==============================] - 1s 43ms/step - loss: 0.7273 - accuracy: 0.7435 - val_loss: 0.7967 - val_accuracy: 0.6833\n",
      "Epoch 66/100\n",
      "17/17 [==============================] - 1s 46ms/step - loss: 0.7197 - accuracy: 0.7472 - val_loss: 0.7892 - val_accuracy: 0.7000\n",
      "Epoch 67/100\n",
      "17/17 [==============================] - 1s 44ms/step - loss: 0.7117 - accuracy: 0.7472 - val_loss: 0.7809 - val_accuracy: 0.7000\n",
      "Epoch 68/100\n",
      "17/17 [==============================] - 1s 43ms/step - loss: 0.7049 - accuracy: 0.7519 - val_loss: 0.7771 - val_accuracy: 0.7000\n",
      "Epoch 69/100\n",
      "17/17 [==============================] - 1s 39ms/step - loss: 0.6974 - accuracy: 0.7583 - val_loss: 0.7705 - val_accuracy: 0.7000\n",
      "Epoch 70/100\n",
      "17/17 [==============================] - 1s 40ms/step - loss: 0.6908 - accuracy: 0.7639 - val_loss: 0.7646 - val_accuracy: 0.7000\n",
      "Epoch 71/100\n",
      "17/17 [==============================] - 1s 39ms/step - loss: 0.6842 - accuracy: 0.7630 - val_loss: 0.7602 - val_accuracy: 0.7000\n",
      "Epoch 72/100\n",
      "17/17 [==============================] - 1s 38ms/step - loss: 0.6776 - accuracy: 0.7667 - val_loss: 0.7539 - val_accuracy: 0.7000\n",
      "Epoch 73/100\n",
      "17/17 [==============================] - 1s 38ms/step - loss: 0.6714 - accuracy: 0.7685 - val_loss: 0.7474 - val_accuracy: 0.7000\n",
      "Epoch 74/100\n",
      "17/17 [==============================] - 1s 37ms/step - loss: 0.6649 - accuracy: 0.7713 - val_loss: 0.7413 - val_accuracy: 0.7000\n",
      "Epoch 75/100\n",
      "17/17 [==============================] - 1s 39ms/step - loss: 0.6590 - accuracy: 0.7722 - val_loss: 0.7361 - val_accuracy: 0.7000\n",
      "Epoch 76/100\n",
      "17/17 [==============================] - 1s 37ms/step - loss: 0.6530 - accuracy: 0.7750 - val_loss: 0.7307 - val_accuracy: 0.7083\n",
      "Epoch 77/100\n",
      "17/17 [==============================] - 1s 37ms/step - loss: 0.6477 - accuracy: 0.7750 - val_loss: 0.7250 - val_accuracy: 0.7000\n",
      "Epoch 78/100\n",
      "17/17 [==============================] - 1s 38ms/step - loss: 0.6416 - accuracy: 0.7796 - val_loss: 0.7190 - val_accuracy: 0.7083\n",
      "Epoch 79/100\n",
      "17/17 [==============================] - 1s 42ms/step - loss: 0.6367 - accuracy: 0.7833 - val_loss: 0.7158 - val_accuracy: 0.7000\n",
      "Epoch 80/100\n",
      "17/17 [==============================] - 1s 50ms/step - loss: 0.6317 - accuracy: 0.7833 - val_loss: 0.7125 - val_accuracy: 0.7083\n",
      "Epoch 81/100\n",
      "17/17 [==============================] - 1s 38ms/step - loss: 0.6254 - accuracy: 0.7852 - val_loss: 0.7044 - val_accuracy: 0.7083\n",
      "Epoch 82/100\n",
      "17/17 [==============================] - 1s 37ms/step - loss: 0.6207 - accuracy: 0.7880 - val_loss: 0.7021 - val_accuracy: 0.7167\n",
      "Epoch 83/100\n",
      "17/17 [==============================] - 1s 48ms/step - loss: 0.6157 - accuracy: 0.7861 - val_loss: 0.6988 - val_accuracy: 0.7167\n",
      "Epoch 84/100\n",
      "17/17 [==============================] - 1s 40ms/step - loss: 0.6104 - accuracy: 0.7889 - val_loss: 0.6913 - val_accuracy: 0.7167\n",
      "Epoch 85/100\n",
      "17/17 [==============================] - 1s 39ms/step - loss: 0.6064 - accuracy: 0.7889 - val_loss: 0.6903 - val_accuracy: 0.7333\n",
      "Epoch 86/100\n",
      "17/17 [==============================] - 1s 36ms/step - loss: 0.6007 - accuracy: 0.7944 - val_loss: 0.6822 - val_accuracy: 0.7333\n",
      "Epoch 87/100\n",
      "17/17 [==============================] - 1s 38ms/step - loss: 0.5960 - accuracy: 0.7944 - val_loss: 0.6802 - val_accuracy: 0.7333\n",
      "Epoch 88/100\n",
      "17/17 [==============================] - 1s 38ms/step - loss: 0.5913 - accuracy: 0.7935 - val_loss: 0.6743 - val_accuracy: 0.7500\n",
      "Epoch 89/100\n",
      "17/17 [==============================] - 1s 39ms/step - loss: 0.5866 - accuracy: 0.7954 - val_loss: 0.6702 - val_accuracy: 0.7500\n",
      "Epoch 90/100\n",
      "17/17 [==============================] - 1s 39ms/step - loss: 0.5819 - accuracy: 0.7981 - val_loss: 0.6648 - val_accuracy: 0.7500\n",
      "Epoch 91/100\n",
      "17/17 [==============================] - 1s 38ms/step - loss: 0.5773 - accuracy: 0.8037 - val_loss: 0.6597 - val_accuracy: 0.7583\n",
      "Epoch 92/100\n",
      "17/17 [==============================] - 1s 39ms/step - loss: 0.5738 - accuracy: 0.8000 - val_loss: 0.6602 - val_accuracy: 0.7583\n",
      "Epoch 93/100\n",
      "17/17 [==============================] - 1s 37ms/step - loss: 0.5688 - accuracy: 0.8019 - val_loss: 0.6499 - val_accuracy: 0.7583\n",
      "Epoch 94/100\n",
      "17/17 [==============================] - 1s 45ms/step - loss: 0.5650 - accuracy: 0.8028 - val_loss: 0.6481 - val_accuracy: 0.7583\n",
      "Epoch 95/100\n",
      "17/17 [==============================] - 1s 43ms/step - loss: 0.5608 - accuracy: 0.8083 - val_loss: 0.6471 - val_accuracy: 0.7583\n",
      "Epoch 96/100\n",
      "17/17 [==============================] - 1s 39ms/step - loss: 0.5563 - accuracy: 0.8102 - val_loss: 0.6402 - val_accuracy: 0.7583\n",
      "Epoch 97/100\n",
      "17/17 [==============================] - 1s 38ms/step - loss: 0.5525 - accuracy: 0.8102 - val_loss: 0.6378 - val_accuracy: 0.7583\n",
      "Epoch 98/100\n",
      "17/17 [==============================] - 1s 37ms/step - loss: 0.5482 - accuracy: 0.8130 - val_loss: 0.6318 - val_accuracy: 0.7583\n",
      "Epoch 99/100\n",
      "17/17 [==============================] - 1s 39ms/step - loss: 0.5449 - accuracy: 0.8148 - val_loss: 0.6332 - val_accuracy: 0.7583\n",
      "Epoch 100/100\n",
      "17/17 [==============================] - 1s 38ms/step - loss: 0.5407 - accuracy: 0.8157 - val_loss: 0.6248 - val_accuracy: 0.7583\n"
     ]
    }
   ],
   "source": [
    "train_dataset = tf.data.Dataset.from_tensor_slices((X_train, Y_train)).batch(64)\n",
    "test_dataset = tf.data.Dataset.from_tensor_slices((X_test, Y_test)).batch(64)\n",
    "history = conv_model.fit(train_dataset, epochs=100, validation_data=test_dataset)"
   ]
  },
  {
   "cell_type": "markdown",
   "metadata": {},
   "source": [
    "<a name='5'></a>\n",
    "## 5 - History Object \n",
    "\n",
    "The history object is an output of the `.fit()` operation, and provides a record of all the loss and metric values in memory. It's stored as a dictionary that you can retrieve at `history.history`: "
   ]
  },
  {
   "cell_type": "code",
   "execution_count": 25,
   "metadata": {},
   "outputs": [
    {
     "data": {
      "text/plain": [
       "{'loss': [1.7944546937942505,\n",
       "  1.7853970527648926,\n",
       "  1.7810287475585938,\n",
       "  1.7776422500610352,\n",
       "  1.7740471363067627,\n",
       "  1.7696528434753418,\n",
       "  1.764574408531189,\n",
       "  1.758752703666687,\n",
       "  1.751478672027588,\n",
       "  1.7433841228485107,\n",
       "  1.7337292432785034,\n",
       "  1.7228150367736816,\n",
       "  1.7104730606079102,\n",
       "  1.6966313123703003,\n",
       "  1.681606411933899,\n",
       "  1.664275050163269,\n",
       "  1.6466572284698486,\n",
       "  1.6273202896118164,\n",
       "  1.6055831909179688,\n",
       "  1.5835237503051758,\n",
       "  1.5596119165420532,\n",
       "  1.5355112552642822,\n",
       "  1.5087382793426514,\n",
       "  1.4799988269805908,\n",
       "  1.450141429901123,\n",
       "  1.4191184043884277,\n",
       "  1.3892651796340942,\n",
       "  1.3595478534698486,\n",
       "  1.328086495399475,\n",
       "  1.2975963354110718,\n",
       "  1.2677096128463745,\n",
       "  1.2388103008270264,\n",
       "  1.2098561525344849,\n",
       "  1.1828101873397827,\n",
       "  1.1564956903457642,\n",
       "  1.131028652191162,\n",
       "  1.1070195436477661,\n",
       "  1.084040880203247,\n",
       "  1.062456727027893,\n",
       "  1.0420451164245605,\n",
       "  1.022915244102478,\n",
       "  1.0028479099273682,\n",
       "  0.9855538606643677,\n",
       "  0.9690238833427429,\n",
       "  0.9516340494155884,\n",
       "  0.9356024265289307,\n",
       "  0.9197978973388672,\n",
       "  0.9049828052520752,\n",
       "  0.8912674188613892,\n",
       "  0.8777065277099609,\n",
       "  0.8647142648696899,\n",
       "  0.852242648601532,\n",
       "  0.8403469324111938,\n",
       "  0.8293523192405701,\n",
       "  0.8183913230895996,\n",
       "  0.8080548048019409,\n",
       "  0.7982364892959595,\n",
       "  0.7881900072097778,\n",
       "  0.7781604528427124,\n",
       "  0.7691692113876343,\n",
       "  0.7601265907287598,\n",
       "  0.7512354850769043,\n",
       "  0.7427743673324585,\n",
       "  0.7347851395606995,\n",
       "  0.727250874042511,\n",
       "  0.7196845412254333,\n",
       "  0.7116813063621521,\n",
       "  0.7049012780189514,\n",
       "  0.6973664164543152,\n",
       "  0.6907608509063721,\n",
       "  0.6842255592346191,\n",
       "  0.6775636076927185,\n",
       "  0.6714327931404114,\n",
       "  0.6648858785629272,\n",
       "  0.6589744687080383,\n",
       "  0.6530452370643616,\n",
       "  0.6477137207984924,\n",
       "  0.6416164040565491,\n",
       "  0.6366939544677734,\n",
       "  0.631734311580658,\n",
       "  0.6253615617752075,\n",
       "  0.6206795573234558,\n",
       "  0.6157065629959106,\n",
       "  0.6104058027267456,\n",
       "  0.606449544429779,\n",
       "  0.6007047891616821,\n",
       "  0.5959962606430054,\n",
       "  0.5912619829177856,\n",
       "  0.5866147875785828,\n",
       "  0.5818922519683838,\n",
       "  0.577343761920929,\n",
       "  0.5738177299499512,\n",
       "  0.5688214302062988,\n",
       "  0.5650080442428589,\n",
       "  0.5607732534408569,\n",
       "  0.5563427805900574,\n",
       "  0.5524755716323853,\n",
       "  0.5482385158538818,\n",
       "  0.5448803305625916,\n",
       "  0.5406959652900696],\n",
       " 'accuracy': [0.17685185372829437,\n",
       "  0.16851851344108582,\n",
       "  0.2537037134170532,\n",
       "  0.307407408952713,\n",
       "  0.3157407343387604,\n",
       "  0.32592591643333435,\n",
       "  0.3231481611728668,\n",
       "  0.3351851999759674,\n",
       "  0.3481481373310089,\n",
       "  0.3583333194255829,\n",
       "  0.3592592477798462,\n",
       "  0.3722222149372101,\n",
       "  0.37962964177131653,\n",
       "  0.3777777850627899,\n",
       "  0.38240739703178406,\n",
       "  0.3916666805744171,\n",
       "  0.39259257912635803,\n",
       "  0.39629629254341125,\n",
       "  0.4157407283782959,\n",
       "  0.42314815521240234,\n",
       "  0.4416666626930237,\n",
       "  0.44999998807907104,\n",
       "  0.4722222089767456,\n",
       "  0.48148149251937866,\n",
       "  0.4990740716457367,\n",
       "  0.5129629373550415,\n",
       "  0.519444465637207,\n",
       "  0.5240740776062012,\n",
       "  0.5287036895751953,\n",
       "  0.5416666865348816,\n",
       "  0.5453703999519348,\n",
       "  0.5611110925674438,\n",
       "  0.5722222328186035,\n",
       "  0.5870370268821716,\n",
       "  0.5907407402992249,\n",
       "  0.6018518805503845,\n",
       "  0.6120370626449585,\n",
       "  0.6194444298744202,\n",
       "  0.6268518567085266,\n",
       "  0.635185182094574,\n",
       "  0.6388888955116272,\n",
       "  0.6462963223457336,\n",
       "  0.6490740776062012,\n",
       "  0.645370364189148,\n",
       "  0.654629647731781,\n",
       "  0.6629629731178284,\n",
       "  0.6712962985038757,\n",
       "  0.6712962985038757,\n",
       "  0.6768518686294556,\n",
       "  0.6824073791503906,\n",
       "  0.6879629492759705,\n",
       "  0.6842592358589172,\n",
       "  0.6870370507240295,\n",
       "  0.6898148059844971,\n",
       "  0.6907407641410828,\n",
       "  0.7009259462356567,\n",
       "  0.7092592716217041,\n",
       "  0.7120370268821716,\n",
       "  0.720370352268219,\n",
       "  0.7250000238418579,\n",
       "  0.729629635810852,\n",
       "  0.7351852059364319,\n",
       "  0.739814817905426,\n",
       "  0.7444444298744202,\n",
       "  0.7435185313224792,\n",
       "  0.7472222447395325,\n",
       "  0.7472222447395325,\n",
       "  0.7518518567085266,\n",
       "  0.7583333253860474,\n",
       "  0.7638888955116272,\n",
       "  0.7629629373550415,\n",
       "  0.7666666507720947,\n",
       "  0.7685185074806213,\n",
       "  0.7712963223457336,\n",
       "  0.7722222208976746,\n",
       "  0.7749999761581421,\n",
       "  0.7749999761581421,\n",
       "  0.779629647731781,\n",
       "  0.7833333611488342,\n",
       "  0.7833333611488342,\n",
       "  0.7851851582527161,\n",
       "  0.7879629731178284,\n",
       "  0.7861111164093018,\n",
       "  0.7888888716697693,\n",
       "  0.7888888716697693,\n",
       "  0.7944444417953491,\n",
       "  0.7944444417953491,\n",
       "  0.7935185432434082,\n",
       "  0.7953703999519348,\n",
       "  0.7981481552124023,\n",
       "  0.8037037253379822,\n",
       "  0.800000011920929,\n",
       "  0.8018518686294556,\n",
       "  0.8027777671813965,\n",
       "  0.8083333373069763,\n",
       "  0.8101851940155029,\n",
       "  0.8101851940155029,\n",
       "  0.8129629492759705,\n",
       "  0.8148148059844971,\n",
       "  0.8157407641410828],\n",
       " 'val_loss': [1.782326102256775,\n",
       "  1.777269721031189,\n",
       "  1.773302674293518,\n",
       "  1.7692792415618896,\n",
       "  1.7641147375106812,\n",
       "  1.7577285766601562,\n",
       "  1.751072645187378,\n",
       "  1.7429616451263428,\n",
       "  1.733232855796814,\n",
       "  1.7220313549041748,\n",
       "  1.7095909118652344,\n",
       "  1.6949094533920288,\n",
       "  1.6790064573287964,\n",
       "  1.6618449687957764,\n",
       "  1.6430714130401611,\n",
       "  1.6240071058273315,\n",
       "  1.602203130722046,\n",
       "  1.5795505046844482,\n",
       "  1.5571736097335815,\n",
       "  1.533063292503357,\n",
       "  1.5088496208190918,\n",
       "  1.4841935634613037,\n",
       "  1.4578107595443726,\n",
       "  1.4320942163467407,\n",
       "  1.404033899307251,\n",
       "  1.377152919769287,\n",
       "  1.3496897220611572,\n",
       "  1.324313998222351,\n",
       "  1.2967228889465332,\n",
       "  1.2715016603469849,\n",
       "  1.2458083629608154,\n",
       "  1.2226977348327637,\n",
       "  1.1969642639160156,\n",
       "  1.1733348369598389,\n",
       "  1.149681568145752,\n",
       "  1.1285929679870605,\n",
       "  1.107689619064331,\n",
       "  1.0883435010910034,\n",
       "  1.071792483329773,\n",
       "  1.0566474199295044,\n",
       "  1.0392529964447021,\n",
       "  1.025993824005127,\n",
       "  1.010163426399231,\n",
       "  0.9970076084136963,\n",
       "  0.9820147156715393,\n",
       "  0.968939483165741,\n",
       "  0.9600293636322021,\n",
       "  0.9487163424491882,\n",
       "  0.9349601864814758,\n",
       "  0.9254542589187622,\n",
       "  0.9153030514717102,\n",
       "  0.9049709439277649,\n",
       "  0.8939973711967468,\n",
       "  0.8848242163658142,\n",
       "  0.8755156397819519,\n",
       "  0.8644809722900391,\n",
       "  0.8553311824798584,\n",
       "  0.8504391312599182,\n",
       "  0.8409108519554138,\n",
       "  0.8307390213012695,\n",
       "  0.8244858980178833,\n",
       "  0.8167335987091064,\n",
       "  0.8122182488441467,\n",
       "  0.8031899929046631,\n",
       "  0.7967233061790466,\n",
       "  0.7891951203346252,\n",
       "  0.7809226512908936,\n",
       "  0.7770718336105347,\n",
       "  0.7705121636390686,\n",
       "  0.764642596244812,\n",
       "  0.7601690888404846,\n",
       "  0.7539409399032593,\n",
       "  0.7474284768104553,\n",
       "  0.7412512302398682,\n",
       "  0.7360748648643494,\n",
       "  0.7307453155517578,\n",
       "  0.7250474691390991,\n",
       "  0.7189895510673523,\n",
       "  0.7158121466636658,\n",
       "  0.7125142812728882,\n",
       "  0.7043718099594116,\n",
       "  0.7020543217658997,\n",
       "  0.6987974047660828,\n",
       "  0.6913168430328369,\n",
       "  0.6903400421142578,\n",
       "  0.6822178363800049,\n",
       "  0.6802223324775696,\n",
       "  0.6742975115776062,\n",
       "  0.6702435612678528,\n",
       "  0.6647809147834778,\n",
       "  0.6597268581390381,\n",
       "  0.6602252721786499,\n",
       "  0.6499297022819519,\n",
       "  0.6480982899665833,\n",
       "  0.6470870971679688,\n",
       "  0.640219509601593,\n",
       "  0.6377735733985901,\n",
       "  0.6318067908287048,\n",
       "  0.6331681609153748,\n",
       "  0.6248016953468323],\n",
       " 'val_accuracy': [0.13333334028720856,\n",
       "  0.25,\n",
       "  0.3166666626930237,\n",
       "  0.34166666865348816,\n",
       "  0.34166666865348816,\n",
       "  0.3583333194255829,\n",
       "  0.4166666567325592,\n",
       "  0.375,\n",
       "  0.42500001192092896,\n",
       "  0.4333333373069763,\n",
       "  0.4333333373069763,\n",
       "  0.42500001192092896,\n",
       "  0.42500001192092896,\n",
       "  0.44999998807907104,\n",
       "  0.4333333373069763,\n",
       "  0.4416666626930237,\n",
       "  0.44999998807907104,\n",
       "  0.44999998807907104,\n",
       "  0.4833333194255829,\n",
       "  0.4749999940395355,\n",
       "  0.4749999940395355,\n",
       "  0.4749999940395355,\n",
       "  0.46666666865348816,\n",
       "  0.5166666507720947,\n",
       "  0.5249999761581421,\n",
       "  0.550000011920929,\n",
       "  0.5416666865348816,\n",
       "  0.5333333611488342,\n",
       "  0.550000011920929,\n",
       "  0.5416666865348816,\n",
       "  0.5416666865348816,\n",
       "  0.5416666865348816,\n",
       "  0.5666666626930237,\n",
       "  0.5916666388511658,\n",
       "  0.5666666626930237,\n",
       "  0.5916666388511658,\n",
       "  0.6166666746139526,\n",
       "  0.6083333492279053,\n",
       "  0.6083333492279053,\n",
       "  0.6083333492279053,\n",
       "  0.6000000238418579,\n",
       "  0.5916666388511658,\n",
       "  0.5916666388511658,\n",
       "  0.6083333492279053,\n",
       "  0.6166666746139526,\n",
       "  0.6166666746139526,\n",
       "  0.625,\n",
       "  0.625,\n",
       "  0.6333333253860474,\n",
       "  0.6333333253860474,\n",
       "  0.6333333253860474,\n",
       "  0.6416666507720947,\n",
       "  0.6416666507720947,\n",
       "  0.6416666507720947,\n",
       "  0.6583333611488342,\n",
       "  0.6499999761581421,\n",
       "  0.6583333611488342,\n",
       "  0.6583333611488342,\n",
       "  0.6583333611488342,\n",
       "  0.6583333611488342,\n",
       "  0.6583333611488342,\n",
       "  0.6583333611488342,\n",
       "  0.6666666865348816,\n",
       "  0.6666666865348816,\n",
       "  0.6833333373069763,\n",
       "  0.699999988079071,\n",
       "  0.699999988079071,\n",
       "  0.699999988079071,\n",
       "  0.699999988079071,\n",
       "  0.699999988079071,\n",
       "  0.699999988079071,\n",
       "  0.699999988079071,\n",
       "  0.699999988079071,\n",
       "  0.699999988079071,\n",
       "  0.699999988079071,\n",
       "  0.7083333134651184,\n",
       "  0.699999988079071,\n",
       "  0.7083333134651184,\n",
       "  0.699999988079071,\n",
       "  0.7083333134651184,\n",
       "  0.7083333134651184,\n",
       "  0.7166666388511658,\n",
       "  0.7166666388511658,\n",
       "  0.7166666388511658,\n",
       "  0.7333333492279053,\n",
       "  0.7333333492279053,\n",
       "  0.7333333492279053,\n",
       "  0.75,\n",
       "  0.75,\n",
       "  0.75,\n",
       "  0.7583333253860474,\n",
       "  0.7583333253860474,\n",
       "  0.7583333253860474,\n",
       "  0.7583333253860474,\n",
       "  0.7583333253860474,\n",
       "  0.7583333253860474,\n",
       "  0.7583333253860474,\n",
       "  0.7583333253860474,\n",
       "  0.7583333253860474,\n",
       "  0.7583333253860474]}"
      ]
     },
     "execution_count": 25,
     "metadata": {},
     "output_type": "execute_result"
    }
   ],
   "source": [
    "history.history"
   ]
  },
  {
   "cell_type": "markdown",
   "metadata": {},
   "source": [
    "Now visualize the loss over time using `history.history`: "
   ]
  },
  {
   "cell_type": "code",
   "execution_count": 28,
   "metadata": {},
   "outputs": [
    {
     "name": "stderr",
     "output_type": "stream",
     "text": [
      "/Users/chen/projects/ml_notes/.venv/lib/python3.7/site-packages/pandas/core/frame.py:5047: SettingWithCopyWarning: \n",
      "A value is trying to be set on a copy of a slice from a DataFrame\n",
      "\n",
      "See the caveats in the documentation: https://pandas.pydata.org/pandas-docs/stable/user_guide/indexing.html#returning-a-view-versus-a-copy\n",
      "  errors=errors,\n"
     ]
    },
    {
     "data": {
      "text/plain": [
       "[Text(0.5, 0, 'Epoch'), Text(0, 0.5, 'Accuracy')]"
      ]
     },
     "execution_count": 28,
     "metadata": {},
     "output_type": "execute_result"
    },
    {
     "data": {
      "image/png": "[encoded data removed]",
      "text/plain": [
       "<Figure size 864x576 with 1 Axes>"
      ]
     },
     "metadata": {
      "needs_background": "light"
     },
     "output_type": "display_data"
    },
    {
     "data": {
      "image/png": "[encoded data removed]",
      "text/plain": [
       "<Figure size 864x576 with 1 Axes>"
      ]
     },
     "metadata": {
      "needs_background": "light"
     },
     "output_type": "display_data"
    }
   ],
   "source": [
    "# The history.history[\"loss\"] entry is a dictionary with as many values as epochs that the\n",
    "# model was trained on. \n",
    "df_loss_acc = pd.DataFrame(history.history)\n",
    "df_loss= df_loss_acc[['loss','val_loss']]\n",
    "df_loss.rename(columns={'loss':'train','val_loss':'validation'},inplace=True)\n",
    "df_acc= df_loss_acc[['accuracy','val_accuracy']]\n",
    "df_acc.rename(columns={'accuracy':'train','val_accuracy':'validation'},inplace=True)\n",
    "df_loss.plot(title='Model loss',figsize=(12,8)).set(xlabel='Epoch',ylabel='Loss')\n",
    "df_acc.plot(title='Model Accuracy',figsize=(12,8)).set(xlabel='Epoch',ylabel='Accuracy')"
   ]
  },
  {
   "cell_type": "markdown",
   "metadata": {},
   "source": [
    "**Congratulations**! You've finished the assignment and built two models: One that recognizes  smiles, and another that recognizes SIGN language with almost 80% accuracy on the test set. In addition to that, you now also understand the applications of two Keras APIs: Sequential and Functional. Nicely done! \n",
    "\n",
    "By now, you know a bit about how the Functional API works and may have glimpsed the possibilities. In your next assignment, you'll really get a feel for its power when you get the opportunity to build a very deep ConvNet, using ResNets! "
   ]
  },
  {
   "cell_type": "markdown",
   "metadata": {},
   "source": [
    "<a name='6'></a>\n",
    "## 6 - Bibliography\n",
    "\n",
    "You're always encouraged to read the official documentation. To that end, you can find the docs for the Sequential and Functional APIs here: \n",
    "\n",
    "https://www.tensorflow.org/guide/keras/sequential_model\n",
    "\n",
    "https://www.tensorflow.org/guide/keras/functional"
   ]
  }
 ],
 "metadata": {
  "coursera": {
   "course_slug": "convolutional-neural-networks",
   "graded_item_id": "bwbJV",
   "launcher_item_id": "0TkXB"
  },
  "interpreter": {
   "hash": "c050ef70c22561527d4e5d7ca3bfcb7396e8b46e6b59dc4f75a5a2d8269a2af5"
  },
  "kernelspec": {
   "display_name": "Python 3.7.3 64-bit ('.venv': venv)",
   "name": "python3"
  },
  "language_info": {
   "codemirror_mode": {
    "name": "ipython",
    "version": 3
   },
   "file_extension": ".py",
   "mimetype": "text/x-python",
   "name": "python",
   "nbconvert_exporter": "python",
   "pygments_lexer": "ipython3",
   "version": "3.7.3"
  }
 },
 "nbformat": 4,
 "nbformat_minor": 2
}